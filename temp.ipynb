{
 "cells": [
  {
   "cell_type": "code",
   "execution_count": 1,
   "metadata": {},
   "outputs": [
    {
     "name": "stdout",
     "output_type": "stream",
     "text": [
      "tensor([-0.3503, -0.6375], grad_fn=<CopySlices>)\n"
     ]
    }
   ],
   "source": [
    "import torch\n",
    "from torch.distributions import Categorical\n",
    "\n",
    "x1 = torch.arange(3).to(torch.float32)\n",
    "x2 = torch.ones(3).to(torch.float32)\n",
    "\n",
    "net = torch.nn.Linear(3, 2)\n",
    "logits = [net(x1), net(x2)]\n",
    "\n",
    "action = torch.zeros(size=(2, ), dtype=torch.int64)\n",
    "log_prob = torch.zeros(size=(2, ))\n",
    "\n",
    "dist1 = Categorical(logits=logits[0])\n",
    "action[0] = dist1.sample()\n",
    "log_prob[0] = dist1.log_prob(action[0])\n",
    "\n",
    "dist2 = Categorical(logits=logits[1])\n",
    "action[1] = dist2.sample()\n",
    "log_prob[1] = dist2.log_prob(action[1])\n",
    "\n",
    "print(log_prob)"
   ]
  },
  {
   "cell_type": "code",
   "execution_count": 8,
   "metadata": {},
   "outputs": [],
   "source": [
    "import numpy as np\n",
    "\n",
    "class Categorical:\n",
    "    def __init__(self, logits):\n",
    "        self.logits = logits\n",
    "        self.probs = self._softmax(logits).detach().numpy()\n",
    "    \n",
    "    def _softmax(self, x):\n",
    "        e_x = np.exp(x - np.max(x))\n",
    "        return e_x / np.sum(e_x)\n",
    "    \n",
    "    def sample(self):\n",
    "        return np.random.choice(len(self.logits), p=self.probs)\n",
    "    \n",
    "    def logprobs(self, index):\n",
    "        return np.log(self.probs[index])"
   ]
  },
  {
   "cell_type": "code",
   "execution_count": 9,
   "metadata": {},
   "outputs": [
    {
     "ename": "TypeError",
     "evalue": "max() received an invalid combination of arguments - got (axis=NoneType, out=NoneType, ), but expected one of:\n * ()\n * (Tensor other)\n * (int dim, bool keepdim)\n      didn't match because some of the keywords were incorrect: axis, out\n * (name dim, bool keepdim)\n      didn't match because some of the keywords were incorrect: axis, out\n",
     "output_type": "error",
     "traceback": [
      "\u001b[1;31m---------------------------------------------------------------------------\u001b[0m",
      "\u001b[1;31mTypeError\u001b[0m                                 Traceback (most recent call last)",
      "\u001b[1;32mc:\\Users\\10485\\Desktop\\科研训练\\sac\\temp.ipynb Cell 3\u001b[0m in \u001b[0;36m<cell line: 1>\u001b[1;34m()\u001b[0m\n\u001b[1;32m----> <a href='vscode-notebook-cell:/c%3A/Users/10485/Desktop/%E7%A7%91%E7%A0%94%E8%AE%AD%E7%BB%83/sac/temp.ipynb#W2sZmlsZQ%3D%3D?line=0'>1</a>\u001b[0m dist1 \u001b[39m=\u001b[39m Categorical(logits\u001b[39m=\u001b[39;49mlogits[\u001b[39m0\u001b[39;49m])\n\u001b[0;32m      <a href='vscode-notebook-cell:/c%3A/Users/10485/Desktop/%E7%A7%91%E7%A0%94%E8%AE%AD%E7%BB%83/sac/temp.ipynb#W2sZmlsZQ%3D%3D?line=1'>2</a>\u001b[0m action[\u001b[39m0\u001b[39m] \u001b[39m=\u001b[39m dist1\u001b[39m.\u001b[39msample()\n\u001b[0;32m      <a href='vscode-notebook-cell:/c%3A/Users/10485/Desktop/%E7%A7%91%E7%A0%94%E8%AE%AD%E7%BB%83/sac/temp.ipynb#W2sZmlsZQ%3D%3D?line=2'>3</a>\u001b[0m log_prob[\u001b[39m0\u001b[39m] \u001b[39m=\u001b[39m dist1\u001b[39m.\u001b[39mlogprobs(action[\u001b[39m0\u001b[39m])\n",
      "\u001b[1;32mc:\\Users\\10485\\Desktop\\科研训练\\sac\\temp.ipynb Cell 3\u001b[0m in \u001b[0;36mCategorical.__init__\u001b[1;34m(self, logits)\u001b[0m\n\u001b[0;32m      <a href='vscode-notebook-cell:/c%3A/Users/10485/Desktop/%E7%A7%91%E7%A0%94%E8%AE%AD%E7%BB%83/sac/temp.ipynb#W2sZmlsZQ%3D%3D?line=3'>4</a>\u001b[0m \u001b[39mdef\u001b[39;00m \u001b[39m__init__\u001b[39m(\u001b[39mself\u001b[39m, logits):\n\u001b[0;32m      <a href='vscode-notebook-cell:/c%3A/Users/10485/Desktop/%E7%A7%91%E7%A0%94%E8%AE%AD%E7%BB%83/sac/temp.ipynb#W2sZmlsZQ%3D%3D?line=4'>5</a>\u001b[0m     \u001b[39mself\u001b[39m\u001b[39m.\u001b[39mlogits \u001b[39m=\u001b[39m logits\n\u001b[1;32m----> <a href='vscode-notebook-cell:/c%3A/Users/10485/Desktop/%E7%A7%91%E7%A0%94%E8%AE%AD%E7%BB%83/sac/temp.ipynb#W2sZmlsZQ%3D%3D?line=5'>6</a>\u001b[0m     \u001b[39mself\u001b[39m\u001b[39m.\u001b[39mprobs \u001b[39m=\u001b[39m \u001b[39mself\u001b[39;49m\u001b[39m.\u001b[39;49m_softmax(logits)\u001b[39m.\u001b[39mdetach()\u001b[39m.\u001b[39mnumpy()\n",
      "\u001b[1;32mc:\\Users\\10485\\Desktop\\科研训练\\sac\\temp.ipynb Cell 3\u001b[0m in \u001b[0;36mCategorical._softmax\u001b[1;34m(self, x)\u001b[0m\n\u001b[0;32m      <a href='vscode-notebook-cell:/c%3A/Users/10485/Desktop/%E7%A7%91%E7%A0%94%E8%AE%AD%E7%BB%83/sac/temp.ipynb#W2sZmlsZQ%3D%3D?line=7'>8</a>\u001b[0m \u001b[39mdef\u001b[39;00m \u001b[39m_softmax\u001b[39m(\u001b[39mself\u001b[39m, x):\n\u001b[1;32m----> <a href='vscode-notebook-cell:/c%3A/Users/10485/Desktop/%E7%A7%91%E7%A0%94%E8%AE%AD%E7%BB%83/sac/temp.ipynb#W2sZmlsZQ%3D%3D?line=8'>9</a>\u001b[0m     e_x \u001b[39m=\u001b[39m np\u001b[39m.\u001b[39mexp(x \u001b[39m-\u001b[39m np\u001b[39m.\u001b[39;49mmax(x))\n\u001b[0;32m     <a href='vscode-notebook-cell:/c%3A/Users/10485/Desktop/%E7%A7%91%E7%A0%94%E8%AE%AD%E7%BB%83/sac/temp.ipynb#W2sZmlsZQ%3D%3D?line=9'>10</a>\u001b[0m     \u001b[39mreturn\u001b[39;00m e_x \u001b[39m/\u001b[39m np\u001b[39m.\u001b[39msum(e_x)\n",
      "File \u001b[1;32m<__array_function__ internals>:5\u001b[0m, in \u001b[0;36mamax\u001b[1;34m(*args, **kwargs)\u001b[0m\n",
      "File \u001b[1;32md:\\PythonLocal\\lib\\site-packages\\numpy\\core\\fromnumeric.py:2754\u001b[0m, in \u001b[0;36mamax\u001b[1;34m(a, axis, out, keepdims, initial, where)\u001b[0m\n\u001b[0;32m   2638\u001b[0m \u001b[39m@array_function_dispatch\u001b[39m(_amax_dispatcher)\n\u001b[0;32m   2639\u001b[0m \u001b[39mdef\u001b[39;00m \u001b[39mamax\u001b[39m(a, axis\u001b[39m=\u001b[39m\u001b[39mNone\u001b[39;00m, out\u001b[39m=\u001b[39m\u001b[39mNone\u001b[39;00m, keepdims\u001b[39m=\u001b[39mnp\u001b[39m.\u001b[39m_NoValue, initial\u001b[39m=\u001b[39mnp\u001b[39m.\u001b[39m_NoValue,\n\u001b[0;32m   2640\u001b[0m          where\u001b[39m=\u001b[39mnp\u001b[39m.\u001b[39m_NoValue):\n\u001b[0;32m   2641\u001b[0m \u001b[39m    \u001b[39m\u001b[39m\"\"\"\u001b[39;00m\n\u001b[0;32m   2642\u001b[0m \u001b[39m    Return the maximum of an array or maximum along an axis.\u001b[39;00m\n\u001b[0;32m   2643\u001b[0m \n\u001b[1;32m   (...)\u001b[0m\n\u001b[0;32m   2752\u001b[0m \u001b[39m    5\u001b[39;00m\n\u001b[0;32m   2753\u001b[0m \u001b[39m    \"\"\"\u001b[39;00m\n\u001b[1;32m-> 2754\u001b[0m     \u001b[39mreturn\u001b[39;00m _wrapreduction(a, np\u001b[39m.\u001b[39;49mmaximum, \u001b[39m'\u001b[39;49m\u001b[39mmax\u001b[39;49m\u001b[39m'\u001b[39;49m, axis, \u001b[39mNone\u001b[39;49;00m, out,\n\u001b[0;32m   2755\u001b[0m                           keepdims\u001b[39m=\u001b[39;49mkeepdims, initial\u001b[39m=\u001b[39;49minitial, where\u001b[39m=\u001b[39;49mwhere)\n",
      "File \u001b[1;32md:\\PythonLocal\\lib\\site-packages\\numpy\\core\\fromnumeric.py:84\u001b[0m, in \u001b[0;36m_wrapreduction\u001b[1;34m(obj, ufunc, method, axis, dtype, out, **kwargs)\u001b[0m\n\u001b[0;32m     82\u001b[0m             \u001b[39mreturn\u001b[39;00m reduction(axis\u001b[39m=\u001b[39maxis, dtype\u001b[39m=\u001b[39mdtype, out\u001b[39m=\u001b[39mout, \u001b[39m*\u001b[39m\u001b[39m*\u001b[39mpasskwargs)\n\u001b[0;32m     83\u001b[0m         \u001b[39melse\u001b[39;00m:\n\u001b[1;32m---> 84\u001b[0m             \u001b[39mreturn\u001b[39;00m reduction(axis\u001b[39m=\u001b[39maxis, out\u001b[39m=\u001b[39mout, \u001b[39m*\u001b[39m\u001b[39m*\u001b[39mpasskwargs)\n\u001b[0;32m     86\u001b[0m \u001b[39mreturn\u001b[39;00m ufunc\u001b[39m.\u001b[39mreduce(obj, axis, dtype, out, \u001b[39m*\u001b[39m\u001b[39m*\u001b[39mpasskwargs)\n",
      "\u001b[1;31mTypeError\u001b[0m: max() received an invalid combination of arguments - got (axis=NoneType, out=NoneType, ), but expected one of:\n * ()\n * (Tensor other)\n * (int dim, bool keepdim)\n      didn't match because some of the keywords were incorrect: axis, out\n * (name dim, bool keepdim)\n      didn't match because some of the keywords were incorrect: axis, out\n"
     ]
    }
   ],
   "source": [
    "dist1 = Categorical(logits=logits[0])\n",
    "action[0] = dist1.sample()\n",
    "log_prob[0] = dist1.logprobs(action[0])\n",
    "\n",
    "dist2 = Categorical(logits=logits[1])\n",
    "action[1] = dist2.sample()\n",
    "log_prob[1] = dist2.logprobs(action[1])\n",
    "\n",
    "print(log_prob)"
   ]
  },
  {
   "cell_type": "code",
   "execution_count": null,
   "metadata": {},
   "outputs": [
    {
     "data": {
      "text/plain": [
       "tensor([[0.5000, 2.5000, 4.5000],\n",
       "        [0.5000, 2.5000, 4.5000]])"
      ]
     },
     "execution_count": 15,
     "metadata": {},
     "output_type": "execute_result"
    }
   ],
   "source": [
    "import torch\n",
    "from torch.distributions import Categorical\n",
    "\n",
    "x1 = torch.arange(3).to(torch.float32)\n",
    "x2 = torch.ones(3).to(torch.float32)\n",
    "\n",
    "net = torch.nn.Linear(3, 2)\n",
    "logits = [net(x1), net(x2)]\n",
    "\n",
    "action = torch.zeros(size=(2, ), dtype=torch.int64)\n",
    "log_prob = torch.zeros(size=(2, ))\n",
    "\n",
    "log_prob[0] = logits[0].mean() * 4\n",
    "log_prob[1] = logits[1].mean() * 1\n",
    "\n",
    "loss = log_prob.sum()\n",
    "loss.backward()\n",
    "\n",
    "net.weight.grad"
   ]
  },
  {
   "cell_type": "code",
   "execution_count": null,
   "metadata": {},
   "outputs": [],
   "source": []
  }
 ],
 "metadata": {
  "kernelspec": {
   "display_name": "Python 3",
   "language": "python",
   "name": "python3"
  },
  "language_info": {
   "codemirror_mode": {
    "name": "ipython",
    "version": 3
   },
   "file_extension": ".py",
   "mimetype": "text/x-python",
   "name": "python",
   "nbconvert_exporter": "python",
   "pygments_lexer": "ipython3",
   "version": "3.9.13"
  },
  "orig_nbformat": 4
 },
 "nbformat": 4,
 "nbformat_minor": 2
}
